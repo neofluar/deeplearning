{
 "cells": [
  {
   "cell_type": "code",
   "execution_count": 1,
   "metadata": {},
   "outputs": [],
   "source": [
    "from keras.datasets import imdb"
   ]
  },
  {
   "cell_type": "code",
   "execution_count": 2,
   "metadata": {},
   "outputs": [
    {
     "name": "stdout",
     "output_type": "stream",
     "text": [
      "Downloading data from https://s3.amazonaws.com/text-datasets/imdb.npz\n",
      "17465344/17464789 [==============================] - 67s 4us/step\n"
     ]
    }
   ],
   "source": [
    "(train_data, train_labels), (test_data, test_labels) = imdb.load_data(num_words=10000)"
   ]
  },
  {
   "cell_type": "code",
   "execution_count": 8,
   "metadata": {},
   "outputs": [
    {
     "name": "stdout",
     "output_type": "stream",
     "text": [
      "[1, 14, 22, 16, 43, 530, 973, 1622, 1385, 65, 458, 4468, 66, 3941, 4, 173, 36, 256, 5, 25, 100, 43, 838, 112, 50, 670, 2, 9, 35, 480, 284, 5, 150, 4, 172, 112, 167, 2, 336, 385, 39, 4, 172, 4536, 1111, 17, 546, 38, 13, 447, 4, 192, 50, 16, 6, 147, 2025, 19, 14, 22, 4, 1920, 4613, 469, 4, 22, 71, 87, 12, 16, 43, 530, 38, 76, 15, 13, 1247, 4, 22, 17, 515, 17, 12, 16, 626, 18, 2, 5, 62, 386, 12, 8, 316, 8, 106, 5, 4, 2223, 5244, 16, 480, 66, 3785, 33, 4, 130, 12, 16, 38, 619, 5, 25, 124, 51, 36, 135, 48, 25, 1415, 33, 6, 22, 12, 215, 28, 77, 52, 5, 14, 407, 16, 82, 2, 8, 4, 107, 117, 5952, 15, 256, 4, 2, 7, 3766, 5, 723, 36, 71, 43, 530, 476, 26, 400, 317, 46, 7, 4, 2, 1029, 13, 104, 88, 4, 381, 15, 297, 98, 32, 2071, 56, 26, 141, 6, 194, 7486, 18, 4, 226, 22, 21, 134, 476, 26, 480, 5, 144, 30, 5535, 18, 51, 36, 28, 224, 92, 25, 104, 4, 226, 65, 16, 38, 1334, 88, 12, 16, 283, 5, 16, 4472, 113, 103, 32, 15, 16, 5345, 19, 178, 32]\n"
     ]
    }
   ],
   "source": [
    "print(train_data[0])"
   ]
  },
  {
   "cell_type": "code",
   "execution_count": 4,
   "metadata": {},
   "outputs": [
    {
     "data": {
      "text/plain": [
       "218"
      ]
     },
     "execution_count": 4,
     "metadata": {},
     "output_type": "execute_result"
    }
   ],
   "source": [
    "len(train_data[0])"
   ]
  },
  {
   "cell_type": "code",
   "execution_count": 5,
   "metadata": {},
   "outputs": [
    {
     "data": {
      "text/plain": [
       "1"
      ]
     },
     "execution_count": 5,
     "metadata": {},
     "output_type": "execute_result"
    }
   ],
   "source": [
    "train_labels[0]"
   ]
  },
  {
   "cell_type": "code",
   "execution_count": 6,
   "metadata": {},
   "outputs": [],
   "source": [
    "def decode_review(review):\n",
    "    word_index = imdb.get_word_index()\n",
    "    reverse_word_index = dict([(val, key) for (key, val) in word_index.items()])\n",
    "    return ' '.join([reverse_word_index.get(i-3, '?') for i in review])"
   ]
  },
  {
   "cell_type": "code",
   "execution_count": 7,
   "metadata": {},
   "outputs": [
    {
     "name": "stdout",
     "output_type": "stream",
     "text": [
      "Downloading data from https://s3.amazonaws.com/text-datasets/imdb_word_index.json\n",
      "1646592/1641221 [==============================] - 12s 7us/step\n"
     ]
    },
    {
     "data": {
      "text/plain": [
       "\"? this film was just brilliant casting location scenery story direction everyone's really suited the part they played and you could just imagine being there robert ? is an amazing actor and now the same being director ? father came from the same scottish island as myself so i loved the fact there was a real connection with this film the witty remarks throughout the film were great it was just brilliant so much that i bought the film as soon as it was released for ? and would recommend it to everyone to watch and the fly fishing was amazing really cried at the end it was so sad and you know what they say if you cry at a film it must have been good and this definitely was also ? to the two little boy's that played the ? of norman and paul they were just brilliant children are often left out of the ? list i think because the stars that play them all grown up are such a big profile for the whole film but these children are amazing and should be praised for what they have done don't you think the whole story was so lovely because it was true and was someone's life after all that was shared with us all\""
      ]
     },
     "execution_count": 7,
     "metadata": {},
     "output_type": "execute_result"
    }
   ],
   "source": [
    "decode_review(train_data[0])"
   ]
  },
  {
   "cell_type": "code",
   "execution_count": 9,
   "metadata": {},
   "outputs": [],
   "source": [
    "import numpy as np\n",
    "\n",
    "def vectorize_sequences(sequences, dimension=10000):\n",
    "    results = np.zeros((len(sequences), dimension))\n",
    "    for i, seq in enumerate(sequences):\n",
    "        results[i, seq] = 1.\n",
    "    return results\n",
    "\n",
    "x_train = vectorize_sequences(train_data)\n",
    "x_test = vectorize_sequences(test_data)"
   ]
  },
  {
   "cell_type": "code",
   "execution_count": 14,
   "metadata": {},
   "outputs": [
    {
     "data": {
      "text/plain": [
       "array([0., 1., 1., ..., 0., 0., 0.])"
      ]
     },
     "execution_count": 14,
     "metadata": {},
     "output_type": "execute_result"
    }
   ],
   "source": [
    "x_train[0]"
   ]
  },
  {
   "cell_type": "code",
   "execution_count": 16,
   "metadata": {},
   "outputs": [],
   "source": [
    "y_train = np.asarray(train_labels).astype('float32')\n",
    "y_test = np.asarray(test_labels).astype('float32')"
   ]
  },
  {
   "cell_type": "code",
   "execution_count": 17,
   "metadata": {},
   "outputs": [
    {
     "data": {
      "text/plain": [
       "array([1., 0., 0., ..., 0., 1., 0.], dtype=float32)"
      ]
     },
     "execution_count": 17,
     "metadata": {},
     "output_type": "execute_result"
    }
   ],
   "source": [
    "y_train"
   ]
  },
  {
   "cell_type": "code",
   "execution_count": 22,
   "metadata": {},
   "outputs": [],
   "source": [
    "from keras import models, layers\n",
    "\n",
    "model = models.Sequential()\n",
    "model.add(layers.Dense(16, activation='relu', input_shape=(10000,)))\n",
    "model.add(layers.Dense(16, activation='relu'))\n",
    "model.add(layers.Dense(1, activation='sigmoid'))"
   ]
  },
  {
   "cell_type": "code",
   "execution_count": 23,
   "metadata": {},
   "outputs": [],
   "source": [
    "model.compile(optimizer='rmsprop', loss='binary_crossentropy', metrics=['accuracy'])"
   ]
  },
  {
   "cell_type": "code",
   "execution_count": 24,
   "metadata": {},
   "outputs": [],
   "source": [
    "x_val = x_train[:10000]\n",
    "partial_x_train = x_train[10000:]\n",
    "\n",
    "y_val = y_train[:10000]\n",
    "partial_y_train = y_train[10000:]"
   ]
  },
  {
   "cell_type": "code",
   "execution_count": 25,
   "metadata": {},
   "outputs": [
    {
     "name": "stdout",
     "output_type": "stream",
     "text": [
      "Train on 15000 samples, validate on 10000 samples\n",
      "Epoch 1/20\n",
      "15000/15000 [==============================] - 1s 89us/step - loss: 0.5181 - acc: 0.7854 - val_loss: 0.3928 - val_acc: 0.8620\n",
      "Epoch 2/20\n",
      "15000/15000 [==============================] - 1s 68us/step - loss: 0.3061 - acc: 0.9012 - val_loss: 0.3048 - val_acc: 0.8875\n",
      "Epoch 3/20\n",
      "15000/15000 [==============================] - 1s 69us/step - loss: 0.2220 - acc: 0.9287 - val_loss: 0.2955 - val_acc: 0.8809\n",
      "Epoch 4/20\n",
      "15000/15000 [==============================] - 1s 69us/step - loss: 0.1714 - acc: 0.9447 - val_loss: 0.2789 - val_acc: 0.8873\n",
      "Epoch 5/20\n",
      "15000/15000 [==============================] - 1s 74us/step - loss: 0.1426 - acc: 0.9519 - val_loss: 0.2923 - val_acc: 0.8854\n",
      "Epoch 6/20\n",
      "15000/15000 [==============================] - 1s 79us/step - loss: 0.1152 - acc: 0.9629 - val_loss: 0.3214 - val_acc: 0.8789\n",
      "Epoch 7/20\n",
      "15000/15000 [==============================] - 1s 75us/step - loss: 0.0935 - acc: 0.9723 - val_loss: 0.3162 - val_acc: 0.8860\n",
      "Epoch 8/20\n",
      "15000/15000 [==============================] - 1s 69us/step - loss: 0.0785 - acc: 0.9770 - val_loss: 0.3389 - val_acc: 0.8785\n",
      "Epoch 9/20\n",
      "15000/15000 [==============================] - 1s 74us/step - loss: 0.0647 - acc: 0.9827 - val_loss: 0.3737 - val_acc: 0.8787\n",
      "Epoch 10/20\n",
      "15000/15000 [==============================] - 1s 71us/step - loss: 0.0520 - acc: 0.9863 - val_loss: 0.3985 - val_acc: 0.8748\n",
      "Epoch 11/20\n",
      "15000/15000 [==============================] - 1s 70us/step - loss: 0.0427 - acc: 0.9892 - val_loss: 0.4330 - val_acc: 0.8704\n",
      "Epoch 12/20\n",
      "15000/15000 [==============================] - 1s 69us/step - loss: 0.0347 - acc: 0.9917 - val_loss: 0.4512 - val_acc: 0.8742\n",
      "Epoch 13/20\n",
      "15000/15000 [==============================] - 1s 71us/step - loss: 0.0281 - acc: 0.9940 - val_loss: 0.4899 - val_acc: 0.8724\n",
      "Epoch 14/20\n",
      "15000/15000 [==============================] - 1s 69us/step - loss: 0.0207 - acc: 0.9964 - val_loss: 0.5115 - val_acc: 0.8721\n",
      "Epoch 15/20\n",
      "15000/15000 [==============================] - 1s 71us/step - loss: 0.0197 - acc: 0.9966 - val_loss: 0.5520 - val_acc: 0.8692\n",
      "Epoch 16/20\n",
      "15000/15000 [==============================] - 1s 69us/step - loss: 0.0151 - acc: 0.9973 - val_loss: 0.5798 - val_acc: 0.8687\n",
      "Epoch 17/20\n",
      "15000/15000 [==============================] - 1s 71us/step - loss: 0.0105 - acc: 0.9990 - val_loss: 0.6511 - val_acc: 0.8645\n",
      "Epoch 18/20\n",
      "15000/15000 [==============================] - 1s 71us/step - loss: 0.0100 - acc: 0.9983 - val_loss: 0.6593 - val_acc: 0.8638\n",
      "Epoch 19/20\n",
      "15000/15000 [==============================] - 1s 71us/step - loss: 0.0048 - acc: 0.9997 - val_loss: 0.6712 - val_acc: 0.8661\n",
      "Epoch 20/20\n",
      "15000/15000 [==============================] - 1s 97us/step - loss: 0.0067 - acc: 0.9987 - val_loss: 0.7069 - val_acc: 0.8661\n"
     ]
    }
   ],
   "source": [
    "history = model.fit(partial_x_train,\n",
    "                    partial_y_train,\n",
    "                    epochs=20,\n",
    "                    batch_size=512,\n",
    "                    validation_data=(x_val, y_val))"
   ]
  },
  {
   "cell_type": "code",
   "execution_count": 26,
   "metadata": {},
   "outputs": [
    {
     "data": {
      "text/plain": [
       "dict_keys(['val_loss', 'val_acc', 'loss', 'acc'])"
      ]
     },
     "execution_count": 26,
     "metadata": {},
     "output_type": "execute_result"
    }
   ],
   "source": [
    "history_dict = history.history\n",
    "history_dict.keys()"
   ]
  },
  {
   "cell_type": "code",
   "execution_count": 29,
   "metadata": {},
   "outputs": [
    {
     "data": {
      "text/plain": [
       "20"
      ]
     },
     "execution_count": 29,
     "metadata": {},
     "output_type": "execute_result"
    }
   ],
   "source": [
    "len(history_dict['val_loss'])"
   ]
  },
  {
   "cell_type": "code",
   "execution_count": 35,
   "metadata": {},
   "outputs": [
    {
     "data": {
      "image/png": "[encoded data removed]",
      "text/plain": [
       "<Figure size 432x288 with 1 Axes>"
      ]
     },
     "metadata": {
      "needs_background": "light"
     },
     "output_type": "display_data"
    }
   ],
   "source": [
    "import matplotlib.pyplot as plt\n",
    "\n",
    "loss_values = history_dict['loss']\n",
    "val_loss_values = history_dict['val_loss']\n",
    "\n",
    "epochs = range(1, len(loss_values) + 1)\n",
    "\n",
    "plt.plot(epochs, loss_values, 'bo', label='Training loss')\n",
    "plt.plot(epochs, val_loss_values, 'r', label='Validation loss')\n",
    "plt.title('Training and validation loss')\n",
    "plt.xlabel('epochs')\n",
    "plt.ylabel('Loss')\n",
    "plt.legend()\n",
    "plt.grid()\n",
    "plt.show()"
   ]
  },
  {
   "cell_type": "code",
   "execution_count": 38,
   "metadata": {},
   "outputs": [
    {
     "data": {
      "image/png": "[encoded data removed]",
      "text/plain": [
       "<Figure size 432x288 with 1 Axes>"
      ]
     },
     "metadata": {
      "needs_background": "light"
     },
     "output_type": "display_data"
    }
   ],
   "source": [
    "acc_values = history_dict['acc']\n",
    "val_acc_values = history_dict['val_acc']\n",
    "\n",
    "plt.plot(epochs, acc_values, 'bo', label='Training accuracy')\n",
    "plt.plot(epochs, val_acc_values, 'r', label='Validation accuracy')\n",
    "plt.title('Training and validation accuracy')\n",
    "plt.xlabel('epochs')\n",
    "plt.ylabel('Accuracy')\n",
    "plt.legend()\n",
    "plt.grid()\n",
    "plt.show()"
   ]
  },
  {
   "cell_type": "code",
   "execution_count": 42,
   "metadata": {
    "scrolled": true
   },
   "outputs": [
    {
     "name": "stdout",
     "output_type": "stream",
     "text": [
      "Epoch 1/2\n",
      "25000/25000 [==============================] - 1s 58us/step - loss: 0.4570 - acc: 0.8226\n",
      "Epoch 2/2\n",
      "25000/25000 [==============================] - 1s 59us/step - loss: 0.2653 - acc: 0.9075\n",
      "25000/25000 [==============================] - 2s 91us/step\n"
     ]
    },
    {
     "data": {
      "text/plain": [
       "[0.28771336384773255, 0.88832]"
      ]
     },
     "execution_count": 42,
     "metadata": {},
     "output_type": "execute_result"
    }
   ],
   "source": [
    "model = models.Sequential()\n",
    "model.add(layers.Dense(16, activation='relu', input_shape=(10000,)))\n",
    "model.add(layers.Dense(16, activation='relu'))\n",
    "model.add(layers.Dense(1, activation='sigmoid'))\n",
    "model.compile(optimizer='rmsprop', loss='binary_crossentropy', metrics=['accuracy'])\n",
    "model.fit(x_train, y_train, epochs=2, batch_size=512)\n",
    "results = model.evaluate(x_test, y_test)\n",
    "results"
   ]
  },
  {
   "cell_type": "code",
   "execution_count": 43,
   "metadata": {},
   "outputs": [
    {
     "data": {
      "text/plain": [
       "array([[0.30454293],\n",
       "       [0.99608445],\n",
       "       [0.94831055],\n",
       "       ...,\n",
       "       [0.18370903],\n",
       "       [0.18220678],\n",
       "       [0.53323776]], dtype=float32)"
      ]
     },
     "execution_count": 43,
     "metadata": {},
     "output_type": "execute_result"
    }
   ],
   "source": [
    "model.predict(x_test)"
   ]
  },
  {
   "cell_type": "code",
   "execution_count": 57,
   "metadata": {},
   "outputs": [],
   "source": [
    "def build_net(x_train, y_train, x_test, y_test, hidden_layers_num, units_num, loss_func, act_func):\n",
    "    model = models.Sequential()\n",
    "    model.add(layers.Dense(units_num, activation=act_func, input_shape=(10000,)))\n",
    "    for _ in range(hidden_layers_num - 1):\n",
    "        model.add(layers.Dense(units_num, activation=act_func))\n",
    "    model.add(layers.Dense(1, activation='sigmoid'))\n",
    "    model.compile(optimizer='rmsprop', loss=loss_func, metrics=['accuracy'])\n",
    "    model.fit(x_train, y_train, epochs=2, batch_size=512)\n",
    "    return model.evaluate(x_test, y_test)"
   ]
  },
  {
   "cell_type": "code",
   "execution_count": 58,
   "metadata": {
    "scrolled": true
   },
   "outputs": [
    {
     "name": "stdout",
     "output_type": "stream",
     "text": [
      "1 8 binary_crossentropy relu\n",
      "Epoch 1/2\n",
      "25000/25000 [==============================] - 1s 52us/step - loss: 0.4841 - acc: 0.8294\n",
      "Epoch 2/2\n",
      "25000/25000 [==============================] - 1s 45us/step - loss: 0.3200 - acc: 0.8967\n",
      "25000/25000 [==============================] - 1s 58us/step\n",
      "[0.3216648663520813, 0.88448]\n",
      "\n",
      "1 8 mse relu\n",
      "Epoch 1/2\n",
      "25000/25000 [==============================] - 1s 50us/step - loss: 0.1989 - acc: 0.6773\n",
      "Epoch 2/2\n",
      "25000/25000 [==============================] - 1s 41us/step - loss: 0.1604 - acc: 0.8532\n",
      "25000/25000 [==============================] - 2s 70us/step\n",
      "[0.16366618332862853, 0.82284]\n",
      "\n",
      "1 8 binary_crossentropy tanh\n",
      "Epoch 1/2\n",
      "25000/25000 [==============================] - 1s 58us/step - loss: 0.4843 - acc: 0.8158\n",
      "Epoch 2/2\n",
      "25000/25000 [==============================] - 1s 43us/step - loss: 0.3198 - acc: 0.9002\n",
      "25000/25000 [==============================] - 1s 58us/step\n",
      "[0.32245649217605593, 0.88428]\n",
      "\n",
      "1 8 mse tanh\n",
      "Epoch 1/2\n",
      "25000/25000 [==============================] - 1s 52us/step - loss: 0.1551 - acc: 0.8210\n",
      "Epoch 2/2\n",
      "25000/25000 [==============================] - 1s 42us/step - loss: 0.0918 - acc: 0.9064\n",
      "25000/25000 [==============================] - 1s 52us/step\n",
      "[0.09619129782438278, 0.88712]\n",
      "\n",
      "1 16 binary_crossentropy relu\n",
      "Epoch 1/2\n",
      "25000/25000 [==============================] - 1s 59us/step - loss: 0.4421 - acc: 0.8327\n",
      "Epoch 2/2\n",
      "25000/25000 [==============================] - 1s 47us/step - loss: 0.2767 - acc: 0.9080\n",
      "25000/25000 [==============================] - 1s 59us/step\n",
      "[0.3004648759651184, 0.88516]\n",
      "\n",
      "1 16 mse relu\n",
      "Epoch 1/2\n",
      "25000/25000 [==============================] - 2s 62us/step - loss: 0.1420 - acc: 0.8357\n",
      "Epoch 2/2\n",
      "25000/25000 [==============================] - 1s 49us/step - loss: 0.0823 - acc: 0.9099\n",
      "25000/25000 [==============================] - 1s 59us/step\n",
      "[0.09155206842422485, 0.88756]\n",
      "\n",
      "1 16 binary_crossentropy tanh\n",
      "Epoch 1/2\n",
      "25000/25000 [==============================] - 2s 62us/step - loss: 0.4406 - acc: 0.8283\n",
      "Epoch 2/2\n",
      "25000/25000 [==============================] - 1s 48us/step - loss: 0.2648 - acc: 0.9116\n",
      "25000/25000 [==============================] - 2s 60us/step\n",
      "[0.2871584429454804, 0.89056]\n",
      "\n",
      "1 16 mse tanh\n",
      "Epoch 1/2\n",
      "25000/25000 [==============================] - 2s 65us/step - loss: 0.1454 - acc: 0.8285\n",
      "Epoch 2/2\n",
      "25000/25000 [==============================] - 1s 51us/step - loss: 0.0828 - acc: 0.9102\n",
      "25000/25000 [==============================] - 1s 58us/step\n",
      "[0.09039387070417404, 0.88772]\n",
      "\n",
      "1 32 binary_crossentropy relu\n",
      "Epoch 1/2\n",
      "25000/25000 [==============================] - 2s 76us/step - loss: 0.4178 - acc: 0.8337\n",
      "Epoch 2/2\n",
      "25000/25000 [==============================] - 2s 61us/step - loss: 0.2527 - acc: 0.9108\n",
      "25000/25000 [==============================] - 2s 76us/step\n",
      "[0.28481571146011353, 0.88968]\n",
      "\n",
      "1 32 mse relu\n",
      "Epoch 1/2\n",
      "25000/25000 [==============================] - 2s 74us/step - loss: 0.1373 - acc: 0.8239\n",
      "Epoch 2/2\n",
      "25000/25000 [==============================] - 2s 62us/step - loss: 0.0758 - acc: 0.9131\n",
      "25000/25000 [==============================] - 2s 84us/step\n",
      "[0.0867838469004631, 0.89032]\n",
      "\n",
      "1 32 binary_crossentropy tanh\n",
      "Epoch 1/2\n",
      "25000/25000 [==============================] - 2s 76us/step - loss: 0.4261 - acc: 0.8320\n",
      "Epoch 2/2\n",
      "25000/25000 [==============================] - 2s 61us/step - loss: 0.2504 - acc: 0.9116\n",
      "25000/25000 [==============================] - 2s 85us/step\n",
      "[0.2851722473526001, 0.8856]\n",
      "\n",
      "1 32 mse tanh\n",
      "Epoch 1/2\n",
      "25000/25000 [==============================] - 2s 79us/step - loss: 0.1324 - acc: 0.8281\n",
      "Epoch 2/2\n",
      "25000/25000 [==============================] - 2s 61us/step - loss: 0.0726 - acc: 0.9138\n",
      "25000/25000 [==============================] - 2s 82us/step\n",
      "[0.08718735213160515, 0.88568]\n",
      "\n",
      "1 64 binary_crossentropy relu\n",
      "Epoch 1/2\n",
      "25000/25000 [==============================] - 2s 100us/step - loss: 0.4143 - acc: 0.8196\n",
      "Epoch 2/2\n",
      "25000/25000 [==============================] - 2s 84us/step - loss: 0.2408 - acc: 0.9152\n",
      "25000/25000 [==============================] - 3s 114us/step\n",
      "[0.27971463529586793, 0.89008]\n",
      "\n",
      "1 64 mse relu\n",
      "Epoch 1/2\n",
      "25000/25000 [==============================] - 3s 108us/step - loss: 0.1320 - acc: 0.8253\n",
      "Epoch 2/2\n",
      "25000/25000 [==============================] - 4s 145us/step - loss: 0.0725 - acc: 0.9116\n",
      "25000/25000 [==============================] - 3s 113us/step\n",
      "[0.08537874472856521, 0.88932]\n",
      "\n",
      "1 64 binary_crossentropy tanh\n",
      "Epoch 1/2\n",
      "25000/25000 [==============================] - 3s 103us/step - loss: 0.4037 - acc: 0.8264\n",
      "Epoch 2/2\n",
      "25000/25000 [==============================] - 2s 85us/step - loss: 0.2347 - acc: 0.9104\n",
      "25000/25000 [==============================] - 3s 109us/step\n",
      "[0.291792602596283, 0.88152]\n",
      "\n",
      "1 64 mse tanh\n",
      "Epoch 1/2\n",
      "25000/25000 [==============================] - 3s 104us/step - loss: 0.1321 - acc: 0.8229\n",
      "Epoch 2/2\n",
      "25000/25000 [==============================] - 2s 88us/step - loss: 0.0690 - acc: 0.9138\n",
      "25000/25000 [==============================] - 3s 111us/step\n",
      "[0.08588726583003997, 0.88496]\n",
      "\n",
      "2 8 binary_crossentropy relu\n",
      "Epoch 1/2\n",
      "25000/25000 [==============================] - 2s 63us/step - loss: 0.5388 - acc: 0.8020\n",
      "Epoch 2/2\n",
      "25000/25000 [==============================] - 1s 45us/step - loss: 0.3431 - acc: 0.8974\n",
      "25000/25000 [==============================] - 2s 62us/step\n",
      "[0.3346786016464233, 0.87992]\n",
      "\n",
      "2 8 mse relu\n",
      "Epoch 1/2\n",
      "25000/25000 [==============================] - 2s 64us/step - loss: 0.1636 - acc: 0.8090\n",
      "Epoch 2/2\n",
      "25000/25000 [==============================] - 1s 44us/step - loss: 0.0888 - acc: 0.9056\n",
      "25000/25000 [==============================] - 2s 61us/step\n",
      "[0.09784379462242127, 0.87628]\n",
      "\n",
      "2 8 binary_crossentropy tanh\n",
      "Epoch 1/2\n",
      "25000/25000 [==============================] - 2s 64us/step - loss: 0.5109 - acc: 0.8299\n",
      "Epoch 2/2\n",
      "25000/25000 [==============================] - 1s 44us/step - loss: 0.3382 - acc: 0.9054\n",
      "25000/25000 [==============================] - 2s 62us/step\n",
      "[0.32968107759475707, 0.88828]\n",
      "\n",
      "2 8 mse tanh\n",
      "Epoch 1/2\n",
      "25000/25000 [==============================] - 2s 63us/step - loss: 0.1502 - acc: 0.8276\n",
      "Epoch 2/2\n",
      "25000/25000 [==============================] - 1s 46us/step - loss: 0.0812 - acc: 0.9084\n",
      "25000/25000 [==============================] - 2s 60us/step\n",
      "[0.08841786668539048, 0.88704]\n",
      "\n",
      "2 16 binary_crossentropy relu\n",
      "Epoch 1/2\n",
      "25000/25000 [==============================] - 2s 72us/step - loss: 0.4568 - acc: 0.8226\n",
      "Epoch 2/2\n",
      "25000/25000 [==============================] - 1s 49us/step - loss: 0.2550 - acc: 0.9099\n",
      "25000/25000 [==============================] - 2s 71us/step\n",
      "[0.3153635566139221, 0.87352]\n",
      "\n",
      "2 16 mse relu\n",
      "Epoch 1/2\n",
      "25000/25000 [==============================] - 2s 77us/step - loss: 0.1492 - acc: 0.8242\n",
      "Epoch 2/2\n",
      "25000/25000 [==============================] - 1s 54us/step - loss: 0.0795 - acc: 0.9096\n",
      "25000/25000 [==============================] - 2s 68us/step\n",
      "[0.08769904952764511, 0.8882]\n",
      "\n",
      "2 16 binary_crossentropy tanh\n",
      "Epoch 1/2\n",
      "25000/25000 [==============================] - 2s 74us/step - loss: 0.4346 - acc: 0.8319\n",
      "Epoch 2/2\n",
      "25000/25000 [==============================] - 1s 50us/step - loss: 0.2425 - acc: 0.9141\n",
      "25000/25000 [==============================] - 2s 70us/step\n",
      "[0.27436152812957765, 0.88948]\n",
      "\n",
      "2 16 mse tanh\n",
      "Epoch 1/2\n",
      "25000/25000 [==============================] - 2s 79us/step - loss: 0.1356 - acc: 0.8258\n",
      "Epoch 2/2\n",
      "25000/25000 [==============================] - 1s 58us/step - loss: 0.0687 - acc: 0.9136\n",
      "25000/25000 [==============================] - 2s 70us/step\n",
      "[0.08976374301433564, 0.87864]\n",
      "\n",
      "2 32 binary_crossentropy relu\n",
      "Epoch 1/2\n",
      "25000/25000 [==============================] - 4s 160us/step - loss: 0.4217 - acc: 0.8205\n",
      "Epoch 2/2\n",
      "25000/25000 [==============================] - 2s 83us/step - loss: 0.2403 - acc: 0.9082\n",
      "25000/25000 [==============================] - 2s 90us/step\n",
      "[0.2914872158908844, 0.88316]\n",
      "\n",
      "2 32 mse relu\n",
      "Epoch 1/2\n",
      "25000/25000 [==============================] - 2s 94us/step - loss: 0.1369 - acc: 0.8156\n",
      "Epoch 2/2\n",
      "25000/25000 [==============================] - 2s 68us/step - loss: 0.0721 - acc: 0.9101\n",
      "25000/25000 [==============================] - 2s 93us/step\n",
      "[0.08724288529872894, 0.883]\n",
      "\n",
      "2 32 binary_crossentropy tanh\n",
      "Epoch 1/2\n"
     ]
    },
    {
     "name": "stdout",
     "output_type": "stream",
     "text": [
      "25000/25000 [==============================] - 2s 100us/step - loss: 0.3998 - acc: 0.8294\n",
      "Epoch 2/2\n",
      "25000/25000 [==============================] - 2s 78us/step - loss: 0.2193 - acc: 0.9164\n",
      "25000/25000 [==============================] - 2s 84us/step\n",
      "[0.30852247016906736, 0.87436]\n",
      "\n",
      "2 32 mse tanh\n",
      "Epoch 1/2\n",
      "25000/25000 [==============================] - 3s 104us/step - loss: 0.1319 - acc: 0.8170\n",
      "Epoch 2/2\n",
      "25000/25000 [==============================] - 2s 62us/step - loss: 0.0651 - acc: 0.9158\n",
      "25000/25000 [==============================] - 2s 81us/step\n",
      "[0.08472101882815361, 0.88584]\n",
      "\n",
      "2 64 binary_crossentropy relu\n",
      "Epoch 1/2\n",
      "25000/25000 [==============================] - 3s 115us/step - loss: 0.4230 - acc: 0.8108\n",
      "Epoch 2/2\n",
      "25000/25000 [==============================] - 3s 109us/step - loss: 0.2388 - acc: 0.9072\n",
      "25000/25000 [==============================] - 3s 115us/step\n",
      "[0.2916613726615906, 0.8834]\n",
      "\n",
      "2 64 mse relu\n",
      "Epoch 1/2\n",
      "25000/25000 [==============================] - 3s 117us/step - loss: 0.1340 - acc: 0.8132\n",
      "Epoch 2/2\n",
      "25000/25000 [==============================] - 2s 98us/step - loss: 0.0699 - acc: 0.9108\n",
      "25000/25000 [==============================] - 3s 116us/step\n",
      "[0.08394396528482437, 0.88716]\n",
      "\n",
      "2 64 binary_crossentropy tanh\n",
      "Epoch 1/2\n",
      "25000/25000 [==============================] - 3s 119us/step - loss: 0.4034 - acc: 0.8184\n",
      "Epoch 2/2\n",
      "25000/25000 [==============================] - 2s 91us/step - loss: 0.2240 - acc: 0.9111\n",
      "25000/25000 [==============================] - 3s 125us/step\n",
      "[0.2839955863952637, 0.88472]\n",
      "\n",
      "2 64 mse tanh\n",
      "Epoch 1/2\n",
      "25000/25000 [==============================] - 3s 119us/step - loss: 0.1290 - acc: 0.8166\n",
      "Epoch 2/2\n",
      "25000/25000 [==============================] - 2s 90us/step - loss: 0.0670 - acc: 0.9105\n",
      "25000/25000 [==============================] - 3s 121us/step\n",
      "[0.08914180562913418, 0.88004]\n",
      "\n",
      "3 8 binary_crossentropy relu\n",
      "Epoch 1/2\n",
      "25000/25000 [==============================] - 2s 90us/step - loss: 0.4874 - acc: 0.8207\n",
      "Epoch 2/2\n",
      "25000/25000 [==============================] - 2s 84us/step - loss: 0.2860 - acc: 0.9057\n",
      "25000/25000 [==============================] - 2s 81us/step\n",
      "[0.2944781474971771, 0.8894]\n",
      "\n",
      "3 8 mse relu\n",
      "Epoch 1/2\n",
      "25000/25000 [==============================] - 2s 75us/step - loss: 0.1565 - acc: 0.8176\n",
      "Epoch 2/2\n",
      "25000/25000 [==============================] - 1s 44us/step - loss: 0.0816 - acc: 0.9096\n",
      "25000/25000 [==============================] - 2s 77us/step\n",
      "[0.08844306042432785, 0.88904]\n",
      "\n",
      "3 8 binary_crossentropy tanh\n",
      "Epoch 1/2\n",
      "25000/25000 [==============================] - 2s 79us/step - loss: 0.4928 - acc: 0.8283\n",
      "Epoch 2/2\n",
      "25000/25000 [==============================] - 1s 43us/step - loss: 0.3082 - acc: 0.9104\n",
      "25000/25000 [==============================] - 2s 82us/step\n",
      "[0.31035914568901063, 0.8894]\n",
      "\n",
      "3 8 mse tanh\n",
      "Epoch 1/2\n",
      "25000/25000 [==============================] - 2s 77us/step - loss: 0.1402 - acc: 0.8292\n",
      "Epoch 2/2\n",
      "25000/25000 [==============================] - 1s 43us/step - loss: 0.0721 - acc: 0.9124\n",
      "25000/25000 [==============================] - 2s 79us/step\n",
      "[0.08437384792566299, 0.88724]\n",
      "\n",
      "3 16 binary_crossentropy relu\n",
      "Epoch 1/2\n",
      "25000/25000 [==============================] - 2s 85us/step - loss: 0.4418 - acc: 0.8224\n",
      "Epoch 2/2\n",
      "25000/25000 [==============================] - 1s 52us/step - loss: 0.2482 - acc: 0.9112\n",
      "25000/25000 [==============================] - 2s 91us/step\n",
      "[0.2824527790641785, 0.8898]\n",
      "\n",
      "3 16 mse relu\n",
      "Epoch 1/2\n",
      "25000/25000 [==============================] - 2s 83us/step - loss: 0.1527 - acc: 0.8096\n",
      "Epoch 2/2\n",
      "25000/25000 [==============================] - 1s 51us/step - loss: 0.0764 - acc: 0.9090\n",
      "25000/25000 [==============================] - 2s 83us/step\n",
      "[0.10542029870033263, 0.85832]\n",
      "\n",
      "3 16 binary_crossentropy tanh\n",
      "Epoch 1/2\n",
      "25000/25000 [==============================] - 2s 89us/step - loss: 0.4074 - acc: 0.8184\n",
      "Epoch 2/2\n",
      "25000/25000 [==============================] - 1s 53us/step - loss: 0.2250 - acc: 0.9119\n",
      "25000/25000 [==============================] - 2s 86us/step\n",
      "[0.28528140761375426, 0.88448]\n",
      "\n",
      "3 16 mse tanh\n",
      "Epoch 1/2\n",
      "25000/25000 [==============================] - 2s 88us/step - loss: 0.1371 - acc: 0.8240\n",
      "Epoch 2/2\n",
      "25000/25000 [==============================] - 1s 52us/step - loss: 0.0671 - acc: 0.9148\n",
      "25000/25000 [==============================] - 2s 81us/step\n",
      "[0.09606196278691292, 0.87184]\n",
      "\n",
      "3 32 binary_crossentropy relu\n",
      "Epoch 1/2\n",
      "25000/25000 [==============================] - 3s 109us/step - loss: 0.4533 - acc: 0.8108\n",
      "Epoch 2/2\n",
      "25000/25000 [==============================] - 2s 71us/step - loss: 0.2464 - acc: 0.9089\n",
      "25000/25000 [==============================] - 3s 101us/step\n",
      "[0.2851511413097382, 0.8856]\n",
      "\n",
      "3 32 mse relu\n",
      "Epoch 1/2\n",
      "25000/25000 [==============================] - 3s 107us/step - loss: 0.1423 - acc: 0.8150\n",
      "Epoch 2/2\n",
      "25000/25000 [==============================] - 2s 70us/step - loss: 0.0715 - acc: 0.9096\n",
      "25000/25000 [==============================] - 2s 99us/step\n",
      "[0.08488039562702179, 0.88764]\n",
      "\n",
      "3 32 binary_crossentropy tanh\n",
      "Epoch 1/2\n",
      "25000/25000 [==============================] - 3s 110us/step - loss: 0.3971 - acc: 0.8198\n",
      "Epoch 2/2\n",
      "25000/25000 [==============================] - 3s 122us/step - loss: 0.2196 - acc: 0.9161\n",
      "25000/25000 [==============================] - 3s 105us/step\n",
      "[0.3214446830892563, 0.87024]\n",
      "\n",
      "3 32 mse tanh\n",
      "Epoch 1/2\n",
      "25000/25000 [==============================] - 3s 110us/step - loss: 0.1271 - acc: 0.8210\n",
      "Epoch 2/2\n",
      "25000/25000 [==============================] - 2s 70us/step - loss: 0.0657 - acc: 0.9139\n",
      "25000/25000 [==============================] - 3s 102us/step\n",
      "[0.09756283726394177, 0.86828]\n",
      "\n",
      "3 64 binary_crossentropy relu\n",
      "Epoch 1/2\n",
      "25000/25000 [==============================] - 4s 146us/step - loss: 0.4264 - acc: 0.8075\n",
      "Epoch 2/2\n",
      "25000/25000 [==============================] - 2s 96us/step - loss: 0.2355 - acc: 0.9090\n",
      "25000/25000 [==============================] - 3s 136us/step\n",
      "[0.28070335567474364, 0.88588]\n",
      "\n",
      "3 64 mse relu\n",
      "Epoch 1/2\n",
      "25000/25000 [==============================] - 3s 134us/step - loss: 0.1372 - acc: 0.8050\n",
      "Epoch 2/2\n",
      "25000/25000 [==============================] - 2s 91us/step - loss: 0.0695 - acc: 0.9082\n",
      "25000/25000 [==============================] - 3s 133us/step\n",
      "[0.08409467404723167, 0.88748]\n",
      "\n",
      "3 64 binary_crossentropy tanh\n",
      "Epoch 1/2\n",
      "25000/25000 [==============================] - 4s 151us/step - loss: 0.3964 - acc: 0.8202\n",
      "Epoch 2/2\n",
      "25000/25000 [==============================] - 2s 96us/step - loss: 0.2237 - acc: 0.9123\n",
      "25000/25000 [==============================] - 3s 139us/step\n",
      "[0.3784763634777069, 0.84416]\n",
      "\n",
      "3 64 mse tanh\n",
      "Epoch 1/2\n",
      "25000/25000 [==============================] - 3s 136us/step - loss: 0.1248 - acc: 0.8240\n",
      "Epoch 2/2\n",
      "25000/25000 [==============================] - 2s 94us/step - loss: 0.0684 - acc: 0.9093\n",
      "25000/25000 [==============================] - 3s 135us/step\n",
      "[0.09284714755773545, 0.87404]\n",
      "\n",
      "4 8 binary_crossentropy relu\n",
      "Epoch 1/2\n",
      "25000/25000 [==============================] - 2s 95us/step - loss: 0.5387 - acc: 0.7927\n",
      "Epoch 2/2\n",
      "25000/25000 [==============================] - 1s 48us/step - loss: 0.2959 - acc: 0.9050\n",
      "25000/25000 [==============================] - 2s 91us/step\n",
      "[0.29368099427223204, 0.88804]\n",
      "\n",
      "4 8 mse relu\n",
      "Epoch 1/2\n",
      "25000/25000 [==============================] - 2s 93us/step - loss: 0.1686 - acc: 0.8111\n",
      "Epoch 2/2\n",
      "25000/25000 [==============================] - 1s 47us/step - loss: 0.0873 - acc: 0.9076\n",
      "25000/25000 [==============================] - 3s 107us/step\n",
      "[0.08980116037845612, 0.88752]\n",
      "\n",
      "4 8 binary_crossentropy tanh\n",
      "Epoch 1/2\n",
      "25000/25000 [==============================] - 3s 103us/step - loss: 0.4495 - acc: 0.8276\n",
      "Epoch 2/2\n",
      "25000/25000 [==============================] - 1s 49us/step - loss: 0.2507 - acc: 0.9127\n",
      "25000/25000 [==============================] - 2s 94us/step\n",
      "[0.2887767712306976, 0.88476]\n",
      "\n",
      "4 8 mse tanh\n",
      "Epoch 1/2\n",
      "25000/25000 [==============================] - 3s 105us/step - loss: 0.1377 - acc: 0.8275\n",
      "Epoch 2/2\n",
      "25000/25000 [==============================] - 1s 58us/step - loss: 0.0697 - acc: 0.9121\n",
      "25000/25000 [==============================] - 2s 92us/step\n",
      "[0.08673564190864563, 0.88384]\n",
      "\n",
      "4 16 binary_crossentropy relu\n",
      "Epoch 1/2\n"
     ]
    },
    {
     "name": "stdout",
     "output_type": "stream",
     "text": [
      "25000/25000 [==============================] - 3s 110us/step - loss: 0.4873 - acc: 0.8050\n",
      "Epoch 2/2\n",
      "25000/25000 [==============================] - 2s 62us/step - loss: 0.2628 - acc: 0.9076\n",
      "25000/25000 [==============================] - 2s 100us/step\n",
      "[0.288615110874176, 0.88604]\n",
      "\n",
      "4 16 mse relu\n",
      "Epoch 1/2\n",
      "25000/25000 [==============================] - 3s 103us/step - loss: 0.1642 - acc: 0.7999\n",
      "Epoch 2/2\n",
      "25000/25000 [==============================] - 1s 53us/step - loss: 0.0814 - acc: 0.9054\n",
      "25000/25000 [==============================] - 3s 101us/step\n",
      "[0.08784470031738281, 0.88556]\n",
      "\n",
      "4 16 binary_crossentropy tanh\n",
      "Epoch 1/2\n",
      "25000/25000 [==============================] - 3s 111us/step - loss: 0.4091 - acc: 0.8226\n",
      "Epoch 2/2\n",
      "25000/25000 [==============================] - 1s 59us/step - loss: 0.2255 - acc: 0.9156\n",
      "25000/25000 [==============================] - 3s 111us/step\n",
      "[0.29300787696838376, 0.88172]\n",
      "\n",
      "4 16 mse tanh\n",
      "Epoch 1/2\n",
      "25000/25000 [==============================] - 3s 133us/step - loss: 0.1365 - acc: 0.8169\n",
      "Epoch 2/2\n",
      "25000/25000 [==============================] - 2s 62us/step - loss: 0.0661 - acc: 0.9131\n",
      "25000/25000 [==============================] - 3s 107us/step\n",
      "[0.09682492219805718, 0.87044]\n",
      "\n",
      "4 32 binary_crossentropy relu\n",
      "Epoch 1/2\n",
      "25000/25000 [==============================] - 3s 128us/step - loss: 0.4523 - acc: 0.8003\n",
      "Epoch 2/2\n",
      "25000/25000 [==============================] - 2s 72us/step - loss: 0.2510 - acc: 0.9042\n",
      "25000/25000 [==============================] - 3s 121us/step\n",
      "[0.28381020387649536, 0.88816]\n",
      "\n",
      "4 32 mse relu\n",
      "Epoch 1/2\n",
      "25000/25000 [==============================] - 3s 123us/step - loss: 0.1479 - acc: 0.8062\n",
      "Epoch 2/2\n",
      "25000/25000 [==============================] - 2s 73us/step - loss: 0.0723 - acc: 0.9078\n",
      "25000/25000 [==============================] - 3s 122us/step\n",
      "[0.08491986450910569, 0.88728]\n",
      "\n",
      "4 32 binary_crossentropy tanh\n",
      "Epoch 1/2\n",
      "25000/25000 [==============================] - 4s 179us/step - loss: 0.4070 - acc: 0.8162\n",
      "Epoch 2/2\n",
      "25000/25000 [==============================] - 2s 72us/step - loss: 0.2210 - acc: 0.9156\n",
      "25000/25000 [==============================] - 3s 122us/step\n",
      "[0.33626611788749694, 0.86488]\n",
      "\n",
      "4 32 mse tanh\n",
      "Epoch 1/2\n",
      "25000/25000 [==============================] - 3s 125us/step - loss: 0.1306 - acc: 0.8148\n",
      "Epoch 2/2\n",
      "25000/25000 [==============================] - 2s 71us/step - loss: 0.0663 - acc: 0.9120\n",
      "25000/25000 [==============================] - 3s 127us/step\n",
      "[0.08918159245461225, 0.87996]\n",
      "\n",
      "4 64 binary_crossentropy relu\n",
      "Epoch 1/2\n",
      "25000/25000 [==============================] - 4s 156us/step - loss: 0.4376 - acc: 0.7972\n",
      "Epoch 2/2\n",
      "25000/25000 [==============================] - 2s 97us/step - loss: 0.2426 - acc: 0.9021\n",
      "25000/25000 [==============================] - 4s 163us/step\n",
      "[0.32280146361351014, 0.869]\n",
      "\n",
      "4 64 mse relu\n",
      "Epoch 1/2\n",
      "25000/25000 [==============================] - 4s 164us/step - loss: 0.1430 - acc: 0.7907\n",
      "Epoch 2/2\n",
      "25000/25000 [==============================] - 3s 101us/step - loss: 0.0693 - acc: 0.9099\n",
      "25000/25000 [==============================] - 4s 154us/step\n",
      "[0.08690263605952263, 0.88396]\n",
      "\n",
      "4 64 binary_crossentropy tanh\n",
      "Epoch 1/2\n",
      "25000/25000 [==============================] - 4s 148us/step - loss: 0.4076 - acc: 0.8084\n",
      "Epoch 2/2\n",
      "25000/25000 [==============================] - 2s 89us/step - loss: 0.2237 - acc: 0.9126\n",
      "25000/25000 [==============================] - 4s 158us/step\n",
      "[0.31724221672058106, 0.86828]\n",
      "\n",
      "4 64 mse tanh\n",
      "Epoch 1/2\n",
      "25000/25000 [==============================] - 4s 160us/step - loss: 0.1311 - acc: 0.8096\n",
      "Epoch 2/2\n",
      "25000/25000 [==============================] - 2s 99us/step - loss: 0.0680 - acc: 0.9099\n",
      "25000/25000 [==============================] - 4s 153us/step\n",
      "[0.08605544157028198, 0.88392]\n",
      "\n"
     ]
    }
   ],
   "source": [
    "for hidden_layers_num in [1, 2, 3, 4]:\n",
    "    for units_num in [8, 16, 32, 64]:\n",
    "        for act_func in ['relu', 'tanh']:\n",
    "            for loss_func in ['binary_crossentropy']:\n",
    "                print(layers_num-1, units_num, loss_func, act_func)\n",
    "                print(build_net(x_train, y_train, x_test, y_test, hidden_layers_num, units_num, loss_func, act_func))\n",
    "                print()"
   ]
  },
  {
   "cell_type": "code",
   "execution_count": null,
   "metadata": {},
   "outputs": [],
   "source": []
  }
 ],
 "metadata": {
  "kernelspec": {
   "display_name": "Python 3",
   "language": "python",
   "name": "python3"
  },
  "language_info": {
   "codemirror_mode": {
    "name": "ipython",
    "version": 3
   },
   "file_extension": ".py",
   "mimetype": "text/x-python",
   "name": "python",
   "nbconvert_exporter": "python",
   "pygments_lexer": "ipython3",
   "version": "3.6.8"
  }
 },
 "nbformat": 4,
 "nbformat_minor": 2
}
